{
 "metadata": {
  "name": "power_levels"
 },
 "nbformat": 3,
 "nbformat_minor": 0,
 "worksheets": [
  {
   "cells": [
    {
     "cell_type": "code",
     "collapsed": false,
     "input": [
      "import numpy as np\n",
      "import math\n",
      "q = np.loadtxt(\"zifq\")\n",
      "i = np.loadtxt(\"zifi\")\n",
      "shi= np.loadtxt(\"sh\")\n",
      "signal = -20\n",
      "attenuator = -50\n",
      "injectedSignal=signal+attenuator\n",
      "iq = i + 1j * q\n"
     ],
     "language": "python",
     "metadata": {},
     "outputs": [],
     "prompt_number": 2
    },
    {
     "cell_type": "markdown",
     "metadata": {},
     "source": [
      "First let's compute a reflevel using an FFT of I-only data. Next we'll do the same thing on the samples directly. Then we'll do both with  IQ data.\n",
      "\n",
      "Let's say we're applyig a -70dBm signal, and we receive the following 14-bit samples:"
     ]
    },
    {
     "cell_type": "code",
     "collapsed": false,
     "input": [
      "samples1 = shi\n",
      "\n",
      "# scale our 14-bit [-2**13 .. 2**13-1] samples to [-1 .. 1]\n",
      "normalized1 = samples1 / float(2**13)\n",
      "# now it doesn't matter if we captured in SH or HDR or with a 16-bit sound card\n",
      "print normalized1"
     ],
     "language": "python",
     "metadata": {},
     "outputs": [
      {
       "output_type": "stream",
       "stream": "stdout",
       "text": [
        "[ 0.00048828  0.00048828  0.         ..., -0.00048828 -0.00048828\n",
        "  0.00146484]\n"
       ]
      }
     ],
     "prompt_number": 3
    },
    {
     "cell_type": "code",
     "collapsed": true,
     "input": [
      "# FFT power levels, adjusted for # of samples\n",
      "power1 = np.abs(np.fft.rfft(normalized1) / len(normalized1))\n",
      "# we can see our DC offset and our dominant signal\n",
      "print np.amax(power1), power1[:10]"
     ],
     "language": "python",
     "metadata": {},
     "outputs": [
      {
       "output_type": "stream",
       "stream": "stdout",
       "text": [
        "0.000172138214111 [  1.72138214e-04   5.47244637e-06   3.33816445e-05   2.78252401e-05\n",
        "   4.29894189e-05   1.73056167e-05   6.59051765e-06   3.53287205e-05\n",
        "   2.01918856e-05   1.42031070e-05]\n"
       ]
      }
     ],
     "prompt_number": 9
    },
    {
     "cell_type": "code",
     "collapsed": false,
     "input": [
      "# convert to dB\n",
      "dB_power1 = 20 * np.log10(power1)\n",
      "print np.amax(dB_power1), dB_power1[:10]"
     ],
     "language": "python",
     "metadata": {},
     "outputs": [
      {
       "output_type": "stream",
       "stream": "stdout",
       "text": [
        "-75.2824541408 [ -75.28245414 -105.23636971  -89.52984545  -91.1112216   -87.33276852\n",
        "  -95.2362584  -103.62160945  -89.03744181  -93.89646247  -96.95233282]\n"
       ]
      }
     ],
     "prompt_number": 11
    },
    {
     "cell_type": "code",
     "collapsed": false,
     "input": [
      "# compute ref level by comparing dB to known -30 dBm signal level\n",
      "ref_level1 = injectedSignal - np.amax(dB_power1)\n",
      "ref_level1"
     ],
     "language": "python",
     "metadata": {},
     "outputs": [
      {
       "output_type": "pyout",
       "prompt_number": 13,
       "text": [
        "5.2824541407589436"
       ]
      }
     ],
     "prompt_number": 13
    },
    {
     "cell_type": "markdown",
     "metadata": {},
     "source": [
      "Power without FFT step"
     ]
    },
    {
     "cell_type": "code",
     "collapsed": false,
     "input": [
      "print np.amin(normalized1), np.amax(normalized1)"
     ],
     "language": "python",
     "metadata": {},
     "outputs": [
      {
       "output_type": "stream",
       "stream": "stdout",
       "text": [
        " -0.0029296875 0.00244140625\n"
       ]
      }
     ],
     "prompt_number": 29
    },
    {
     "cell_type": "code",
     "collapsed": false,
     "input": [
      "dB_power2 = 20 * np.log10(np.amax(normalized1) - np.amin(normalized1))\n",
      "print dB_power2"
     ],
     "language": "python",
     "metadata": {},
     "outputs": [
      {
       "output_type": "stream",
       "stream": "stdout",
       "text": [
        "-45.3987453429\n"
       ]
      }
     ],
     "prompt_number": 34
    },
    {
     "cell_type": "code",
     "collapsed": false,
     "input": [
      "ref_level2 = injectedSignal - dB_power2\n",
      "ref_level2"
     ],
     "language": "python",
     "metadata": {},
     "outputs": [
      {
       "output_type": "pyout",
       "prompt_number": 35,
       "text": [
        "-24.601254657088639"
       ]
      }
     ],
     "prompt_number": 35
    },
    {
     "cell_type": "markdown",
     "metadata": {},
     "source": [
      "The values aren't exactly equal because the non-FFT version includes power from the noise across all frequencies, not just the bin where the signal is expected. Maybe we should treat the difference between the two measurements as another indication of how good the reflevel reading is. There would be a large difference when there are input-related spurs, for example.\n",
      "\n",
      "Here are similar calculations for complex captures:"
     ]
    },
    {
     "cell_type": "code",
     "collapsed": false,
     "input": [
      "samples3 = iq\n",
      "normalized3 = samples3 / float(2**13)\n",
      "normalized3"
     ],
     "language": "python",
     "metadata": {},
     "outputs": [
      {
       "output_type": "pyout",
       "prompt_number": 216,
       "text": [
        "array([ 0.00000000-0.00048828j, -0.00097656-0.00048828j,\n",
        "        0.00048828+0.00048828j, ..., -0.00048828+0.j        ,\n",
        "       -0.00048828+0.j        , -0.00048828+0.00048828j])"
       ]
      }
     ],
     "prompt_number": 216
    },
    {
     "cell_type": "code",
     "collapsed": false,
     "input": [
      "power3 = np.fft.fft(normalized3) / len(normalized3)\n",
      "power3"
     ],
     "language": "python",
     "metadata": {},
     "outputs": [
      {
       "output_type": "pyout",
       "prompt_number": 217,
       "text": [
        "array([ -2.02178955e-04 -1.78813934e-04j,\n",
        "         3.95686252e-05 +2.90130483e-05j,\n",
        "        -2.86784102e-05 -3.28116050e-05j, ...,\n",
        "        -2.65001045e-06 -1.90600672e-05j,\n",
        "         6.92907866e-06 -6.28254615e-05j,  -1.89998967e-06 -1.74413581e-05j])"
       ]
      }
     ],
     "prompt_number": 217
    },
    {
     "cell_type": "code",
     "collapsed": false,
     "input": [
      "dB_power3 = 20 * np.log10(np.abs(power3))\n",
      "dB_power3"
     ],
     "language": "python",
     "metadata": {},
     "outputs": [
      {
       "output_type": "pyout",
       "prompt_number": 218,
       "text": [
        "array([-71.37565955, -86.18445779, -87.21462999, ..., -94.31436063,\n",
        "       -83.984777  , -95.11715959])"
       ]
      }
     ],
     "prompt_number": 218
    },
    {
     "cell_type": "code",
     "collapsed": false,
     "input": [
      "ref_level3 = injectedSignal - np.max(dB_power3)\n",
      "ref_level3\n"
     ],
     "language": "python",
     "metadata": {},
     "outputs": [
      {
       "output_type": "pyout",
       "prompt_number": 219,
       "text": [
        "1.3756595500121449"
       ]
      }
     ],
     "prompt_number": 219
    },
    {
     "cell_type": "code",
     "collapsed": false,
     "input": [
      "corrected4 = normalized3 - np.mean(normalized3)\n",
      "corrected4"
     ],
     "language": "python",
     "metadata": {},
     "outputs": [
      {
       "output_type": "pyout",
       "prompt_number": 220,
       "text": [
        "array([ 0.00020218-0.00030947j, -0.00077438-0.00030947j,\n",
        "        0.00069046+0.0006671j , ..., -0.00028610+0.00017881j,\n",
        "       -0.00028610+0.00017881j, -0.00028610+0.0006671j ])"
       ]
      }
     ],
     "prompt_number": 220
    },
    {
     "cell_type": "code",
     "collapsed": false,
     "input": [
      "dB_power4 = 20 * np.log10(np.abs(corrected4))\n",
      "dB_power4"
     ],
     "language": "python",
     "metadata": {},
     "outputs": [
      {
       "output_type": "pyout",
       "prompt_number": 221,
       "text": [
        "array([-68.64401966, -61.577404  , -60.35386251, ..., -69.43747284,\n",
        "       -69.43747284, -62.78296111])"
       ]
      }
     ],
     "prompt_number": 221
    },
    {
     "cell_type": "code",
     "collapsed": false,
     "input": [
      "ref_level4 = injectedSignal - np.mean(dB_power4)\n",
      "ref_level4"
     ],
     "language": "python",
     "metadata": {},
     "outputs": [
      {
       "output_type": "pyout",
       "prompt_number": 222,
       "text": [
        "-8.686206787937401"
       ]
      }
     ],
     "prompt_number": 222
    },
    {
     "cell_type": "markdown",
     "metadata": {},
     "source": [
      "The last calulcation is further off, maybe we should be using the numpy_util._calibrate_i_q method as part of this measurement."
     ]
    },
    {
     "cell_type": "code",
     "collapsed": false,
     "input": [],
     "language": "python",
     "metadata": {},
     "outputs": [],
     "prompt_number": 222
    }
   ],
   "metadata": {}
  }
 ]
}